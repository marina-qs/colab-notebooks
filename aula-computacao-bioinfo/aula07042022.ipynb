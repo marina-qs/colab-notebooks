{
 "cells": [
  {
   "cell_type": "markdown",
   "id": "34978b21",
   "metadata": {},
   "source": [
    "##Disjoint events (eventos disjuntos)\n",
    "x > y ou y < x ou x = y"
   ]
  },
  {
   "cell_type": "markdown",
   "id": "4c850019",
   "metadata": {},
   "source": [
    "###Desafio1:\n",
    "Dado 3 variáveis a, b, c, com valores distintos, determine qual é o maior.\n",
    "\n",
    "######antes de escrever o programa, pensar em todas as opções.\n",
    "\n",
    "a > b > c ou a > c > b ou b > c > a ou b > a > c ou c > a > b ou c > b > a"
   ]
  },
  {
   "cell_type": "code",
   "execution_count": null,
   "id": "02acf0be",
   "metadata": {},
   "outputs": [],
   "source": [
    "a = 4\n",
    "b = 5\n",
    "c = 7\n",
    "\n",
    "if a > b and a > c:\n",
    "    print(\"a é o maior número\")\n",
    "elif b > c:           #não precisa colocar b > a, porque para ter passado pelo passo de cima, b tem que ser maior que a (fica redundante)\n",
    "    print(\"b é o maior número\")\n",
    "else:\n",
    "    print(\"c é o maior número\")"
   ]
  },
  {
   "cell_type": "markdown",
   "id": "047d4df0",
   "metadata": {},
   "source": [
    "##lógica\n",
    "if A:\n",
    "    comando1...\n",
    "    if B:\n",
    "        comando2...\n",
    "é a mesma coisa que escrever:\n",
    "if A and B:"
   ]
  },
  {
   "cell_type": "markdown",
   "id": "deeebab2",
   "metadata": {},
   "source": [
    "###Desafio2:\n",
    "Dado 3 variáveis, a, b, c, determine qual é o maior\n",
    "Obs.: com a possibilidade de ter números iguais, fica mais difícil"
   ]
  },
  {
   "cell_type": "code",
   "execution_count": null,
   "id": "bc071d29",
   "metadata": {},
   "outputs": [],
   "source": []
  },
  {
   "cell_type": "code",
   "execution_count": null,
   "id": "252fbb22",
   "metadata": {},
   "outputs": [],
   "source": [
    "#Desafio3 (Problema 2 do site):\n",
    "n = int(input(\"Digite n: \"))\n",
    "rec = 0\n",
    "i = 1\n",
    "\n",
    "while i <= n:\n",
    "    nota = float(input(\"Digite uma nota: \"))\n",
    "    if 3.0 <= nota and nota < 5:\n",
    "        rec = rec + 1\n",
    "    i = i + 1\n",
    "\n",
    "print(rec, \"alunos ficaram de recuperação\")"
   ]
  },
  {
   "cell_type": "markdown",
   "id": "98e0518f",
   "metadata": {},
   "source": [
    "#####ler o conteúdo pelo menos dez vezes todas as aulas para solidificar o conteúdo"
   ]
  }
 ],
 "metadata": {
  "kernelspec": {
   "display_name": "Python 3 (ipykernel)",
   "language": "python",
   "name": "python3"
  },
  "language_info": {
   "codemirror_mode": {
    "name": "ipython",
    "version": 3
   },
   "file_extension": ".py",
   "mimetype": "text/x-python",
   "name": "python",
   "nbconvert_exporter": "python",
   "pygments_lexer": "ipython3",
   "version": "3.9.7"
  }
 },
 "nbformat": 4,
 "nbformat_minor": 5
}
