{
 "cells": [
  {
   "cell_type": "markdown",
   "id": "a31e4c6d",
   "metadata": {},
   "source": [
    "#Começando a conhecer o Python"
   ]
  },
  {
   "cell_type": "markdown",
   "id": "a8a5a251",
   "metadata": {},
   "source": [
    "###Operadores aritméticos:\n",
    "\n",
    "Operador\t Descrição\t                 Exemplo\t      Avalia para\n",
    "+\t         Adição\t                     7 + 3\t          10\n",
    "-\t         Subtração\t                 7 - 3\t          4\n",
    "*\t         Multiplicação\t             7 * 3\t          21\n",
    "/\t         Divisão (Real)\t             7 / 3\t          2.3333333333333335\n",
    "//\t         Divisão (Inteiro)\t         7 // 3\t          2\n",
    "%\t         Módulo (resto da divisão)\t 7 % 3\t          1"
   ]
  },
  {
   "cell_type": "markdown",
   "id": "bdc3cedb",
   "metadata": {},
   "source": [
    "###Variáveis e comando de atribuição\n",
    "\n",
    "Uma variável é um nome que se refere a um valor armazenado na memória do computador. Um comando de atribuição (=) cria uma nova variável e lhe dá um valor.\n",
    "\n",
    "Um comando de atribuição tem a seguinte forma:\n",
    "\n",
    "######1 | variável = expressão\n",
    "\n",
    "Significado:\n",
    "1. o valor da expressão é calculado;\n",
    "2. a variável é criada;\n",
    "3. a variável passa a fazer referência/guardar o valor\n",
    "\n",
    "Variáveis são usadas para guardarmos valores que serão usados mais tarde no programa. Por exemplo, variáveis podem ser usadas como parte de futuras expressões matemáticas, indicando que seus valores serão usados como operandos dos operadores. Note, porém, que uma variável não pode ser usada em uma expressão antes de sua criação.\n",
    "A qualquer momento podemos imprimir/exibir o valor de uma variável usando o comando print, tal como indicado no exemplo abaixo:"
   ]
  },
  {
   "cell_type": "code",
   "execution_count": 1,
   "id": "e66f764a",
   "metadata": {},
   "outputs": [
    {
     "name": "stdout",
     "output_type": "stream",
     "text": [
      "20\n"
     ]
    }
   ],
   "source": [
    "a = 2 + 3 * 6\n",
    "print(a)"
   ]
  },
  {
   "cell_type": "code",
   "execution_count": 2,
   "id": "39894880",
   "metadata": {},
   "outputs": [
    {
     "name": "stdout",
     "output_type": "stream",
     "text": [
      "15\n"
     ]
    }
   ],
   "source": [
    "b = a - 5\n",
    "print(b)"
   ]
  },
  {
   "cell_type": "markdown",
   "id": "632e2378",
   "metadata": {},
   "source": [
    "Nomes de variáveis devem obedecer à seguinte regra de formação. Os nomes das variáveis devem começar por uma letra ou o símbolo '_' (underscore) e depois conter somente letras, números ou underscore. Atenção, maiúscula é diferente de minúscula. Assim maior e Maior são duas variáveis diferentes.\n",
    "Obs.: nomes de variáveis não podem começar com números.\n",
    "\n",
    "###Atenção:\n",
    "O comando de atribuição do Python não deve ser confundido com o conceito de igualdade de equações matemáticas. Por exemplo, o comando a = a + b do Python não implica que b = 0. Isto é, o comando em questão não é uma equação matemática, logo você não deve subtrair 'a' dos dois lados para tirar conclusões."
   ]
  },
  {
   "cell_type": "markdown",
   "id": "1b63d32b",
   "metadata": {},
   "source": [
    "O valor contido no espaço de memória de uma variável pode variar com o tempo, não sendo um valor fixo durante todo tempo de execução de um programa.\n",
    "Desse modo, comandos como a=a-4 são perfeitamente aceitáveis."
   ]
  }
 ],
 "metadata": {
  "kernelspec": {
   "display_name": "Python 3 (ipykernel)",
   "language": "python",
   "name": "python3"
  },
  "language_info": {
   "codemirror_mode": {
    "name": "ipython",
    "version": 3
   },
   "file_extension": ".py",
   "mimetype": "text/x-python",
   "name": "python",
   "nbconvert_exporter": "python",
   "pygments_lexer": "ipython3",
   "version": "3.9.7"
  },
  "toc-autonumbering": false,
  "toc-showcode": false,
  "toc-showmarkdowntxt": false
 },
 "nbformat": 4,
 "nbformat_minor": 5
}
